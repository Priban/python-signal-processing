{
 "cells": [
  {
   "attachments": {},
   "cell_type": "markdown",
   "metadata": {},
   "source": [
    "Proveďte kepstrální analýzu pro následující signály\n",
    "- pilový\n",
    "- obdélníkový \n",
    "- obecný se šumem\n",
    "\n",
    " a z kepstra signálu odhadněte, pomocí kolika funkcí (vyšších harmonických) byly vytvořeny \n",
    "\n"
   ]
  },
  {
   "cell_type": "code",
   "execution_count": null,
   "metadata": {},
   "outputs": [],
   "source": [
    "import numpy as np\n",
    "import scipy as sp\n",
    "import scipy.signal as sig\n",
    "import matplotlib.pyplot as plt"
   ]
  },
  {
   "cell_type": "code",
   "execution_count": null,
   "metadata": {},
   "outputs": [],
   "source": [
    "n_length=int(1e3);\n",
    "xsig =np.zeros(n_length)\n",
    "per=2*np.pi\n",
    "num=5\n",
    "# num Hertz wave sampled at 500 hz fro 1 sec\n",
    "tsigs = np.linspace(0,1,500)\n",
    "\n",
    "\n",
    "#SignalOut = sig.square(tsigs*per*num,0.5)\n",
    "SignalOut = sig.sawtooth(tsigs*per*num,1.0)\n",
    "\n",
    "plt.plot(tsigs,SignalOut);\n",
    "\n",
    "\n"
   ]
  },
  {
   "cell_type": "code",
   "execution_count": null,
   "metadata": {},
   "outputs": [],
   "source": [
    "plt.rcParams[\"figure.figsize\"] = (8,8)\n",
    "\n",
    "#perform FFT of the Speech and obtain power\n",
    "#FFtsignal = np.abs(np.fft.fft(Signal))\n",
    "FFtsignal = np.abs(np.fft.fft(SignalOut))\n",
    "#perform log of spectra\n",
    "\n",
    "logSignal = np.log(FFtsignal)\n",
    "#perform inverse FFT on log signal\n",
    "FFTbackSignal=np.fft.ifft(logSignal)\n",
    "\n",
    "plt.subplot(3,1,1)\n",
    "plt.plot(FFtsignal)\n",
    "plt.xlabel('Frequency');\n",
    "plt.ylabel('Magnitude');\n",
    "plt.subplot(3,1,2)\n",
    "plt.plot(logSignal)\n",
    "plt.xlabel('Frequency (Hz)');\n",
    "plt.ylabel('log(F{f(t)})');\n",
    "plt.subplot(3,1,3)\n",
    "plt.plot(FFTbackSignal)\n",
    "plt.xlabel('Qfrequency (samples)');\n",
    "plt.ylabel('Cepstrum');\n",
    "\n",
    "\n"
   ]
  }
 ],
 "metadata": {
  "kernelspec": {
   "display_name": "base",
   "language": "python",
   "name": "python3"
  },
  "language_info": {
   "codemirror_mode": {
    "name": "ipython",
    "version": 3
   },
   "file_extension": ".py",
   "mimetype": "text/x-python",
   "name": "python",
   "nbconvert_exporter": "python",
   "pygments_lexer": "ipython3",
   "version": "3.9.13"
  },
  "orig_nbformat": 4,
  "vscode": {
   "interpreter": {
    "hash": "5aac32dcdd98302e4f966d7d29675b75e35ef28cdf73c9bb47c62f1529313aac"
   }
  }
 },
 "nbformat": 4,
 "nbformat_minor": 2
}
