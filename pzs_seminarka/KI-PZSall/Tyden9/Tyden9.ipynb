{
 "cells": [
  {
   "attachments": {},
   "cell_type": "markdown",
   "metadata": {},
   "source": [
    "Využití Fourierovy transfromace a další typy transfromací \n",
    "- **Spektrum signálu z Fourierovy transformace**\n",
    "- Okénková Fourierova transfromace \n",
    "- Kepstrální analýza\n",
    "- Waveletová transfromace \n"
   ]
  },
  {
   "attachments": {},
   "cell_type": "markdown",
   "metadata": {},
   "source": [
    "- klasická diskrétní fourierova transformace vytvoří **frekvenční spektrum** signálu \n",
    "$$s(k) = \\sum_{n=0}^{N-1} s(t) e^{-i\\frac{2\\pi}{N}kn} $$\n",
    "- **Rozložení energie spektra** $E_s$ pomocí Fourierovy (spojité) transformace \n",
    "  $$\\int_{-\\infty}^{\\infty} \\left| s(t) \\right|^2 {\\rm d}t \\rightarrow \\int_{-\\infty}^{\\infty} \\left| s(k) \\right|^2 {\\rm d}k$$\n",
    "- Rozložení energie spektra $E_s$ pomocí Fourierovy (diskrétní) transformace \n",
    "  $$\\sum_{n=1}^N \\left| s(n)\\right|^2 \\rightarrow \\sum_{k=0}^{N-1} \\left| s(k)\\right|^2 = \\sum_{k=0}^{N-1} \\left| \\sum_{n=0}^{N-1} s(t) e^{-i\\frac{2\\pi}{N}kn}\\right|^2$$\n",
    "- tedy energie dané frekvence ve spektru $E_s(f)$ je\n",
    "  $$E_s(k) = \\left| s(k)\\right|^2 = \\left| \\sum_{n=0}^{N-1} s(t) e^{-i\\frac{2\\pi}{N}kn}\\right|^2$$\n",
    "  \n",
    "**Výkonové spektrum** popisuje, jak je energie distribuována přes jednotlivé frekvence \n",
    "- výkon obsahuje element času $P = \\frac{E}{t}$  nebo $P = \\frac{E}{T}$\n",
    "Potom je výkonnové spektrum pro diskrétní reprezentaci signálu počítáno jako \n",
    "$$P_s(k) = \\lim_{N\\rightarrow \\infty} \\frac{(\\Delta t)^2}{T} \\left| s_\\omega(k)\\right|^2 = \\lim_{T\\rightarrow \\infty} \\frac{(\\Delta t)^2}{T} \\left| \\sum_{n=-N}^{N} s(t) e^{-i\\frac{2\\pi}{N}kn \\Delta t}\\right|^2$$\n",
    "- kde $s_\\omega(k)$ je spektrum signálu omezeného na časový interval $\\Delta t$ a $T = (2N+1)\\Delta t$\n",
    "\n",
    "---"
   ]
  },
  {
   "attachments": {},
   "cell_type": "markdown",
   "metadata": {},
   "source": [
    "Okénková Furierova transformace\n",
    " - aj. STFT - [Short-time Fourier Transform](https://docs.scipy.org/doc/scipy/reference/generated/scipy.signal.stft.html)\n",
    " - použití pro lepší lokalizaci událostí v signálech \n",
    "\n",
    "**Využití STFT při lokalizaci R vrcholu v EKG signálu**"
   ]
  },
  {
   "cell_type": "code",
   "execution_count": null,
   "metadata": {},
   "outputs": [],
   "source": [
    "import numpy as np\n",
    "import matplotlib.pyplot as plt\n",
    "from matplotlib import figure\n",
    "import scipy as sp\n",
    "from scipy.misc import electrocardiogram\n",
    "\n",
    "#generate ECG signal at 360Hz sampling rate 5 min long\n",
    "EKG =  electrocardiogram();\n",
    "\n",
    "Fs = 360; #Hz\n",
    "T = 1/Fs;\n",
    "\n",
    "n_length=3840;\n",
    "#n_length = int(np.floor(10/T)) #take 10 s long interval\n",
    "tvec = np.arange(n_length)*T;\n",
    "Signal = EKG[0:n_length];\n",
    "plt.plot(tvec,Signal);\n",
    "\n"
   ]
  },
  {
   "cell_type": "code",
   "execution_count": null,
   "metadata": {},
   "outputs": [],
   "source": [
    "#perform FT and plot spectrum\n",
    "\n",
    "SigFFT = np.abs(np.fft.fft(Signal))\n",
    "\n",
    "plt.subplot(2,1,1)\n",
    "plt.stem(np.arange(tvec.size),SigFFT);\n",
    "plt.xlabel('f');\n",
    "plt.ylabel('s(f)');\n",
    "\n",
    "plt.subplot(2,1,2)\n",
    "nsigs = 100\n",
    "plt.stem(np.arange(nsigs),SigFFT[0:nsigs]);\n",
    "plt.xlabel('f');\n",
    "plt.ylabel('s(f)');\n"
   ]
  },
  {
   "cell_type": "code",
   "execution_count": null,
   "metadata": {},
   "outputs": [],
   "source": [
    "#perform STFT analysis with variable window width\n",
    "from scipy import signal\n",
    "\n",
    "#reffer to stft variables\n",
    "#f - array of sampling freqs\n",
    "#t- timestamps of segments\n",
    "# Zxx - stft of signal x\n",
    "f,t,Zxx = sp.signal.stft(Signal, Fs,nperseg=50)\n",
    "\n",
    "\n",
    "plt.pcolormesh(t, f, np.abs(Zxx), vmin=0, vmax=0.05, shading='gouraud')\n",
    "plt.plot(tvec[0:n_length],Signal*10+10,'r--')\n",
    "plt.ylim((0,50))\n",
    "plt.show()\n"
   ]
  },
  {
   "attachments": {},
   "cell_type": "markdown",
   "metadata": {},
   "source": [
    "**Kepstrální analýza**\n",
    "  - model vytváření mluveného slova\n",
    "  - analýza pomocí Fourierovy transformace (přímá, zpětná)\n",
    "  - kepstrum $C_p$ je tzv. spektrum spektra\n",
    "$$ C_p = \\left| F^{-1} \\left\\{ \\log{\\left( \\left| F\\{ f(t) \\}\\right|^2    \\right)}\\right\\}\\right|^2$$\n",
    "po zjednodušení \n",
    "$$ C_p = \\left| F^{-1} \\left\\{ 2\\log{|F(f(t))|}\\right\\}\\right|^2$$\n",
    "\n",
    "kde $F\\{(f(t)\\}$ je Fourierova transformace signálu $f(t)$.\n"
   ]
  },
  {
   "cell_type": "markdown",
   "metadata": {},
   "source": [
    "\n",
    "\n",
    "Model vytváření mluveného slova\n",
    "- [pyttsx3](https://pypi.org/project/pyttsx3/) modul \n",
    "- [wave](https://docs.python.org/3/library/wave.html) modul \n"
   ]
  },
  {
   "cell_type": "code",
   "execution_count": null,
   "metadata": {},
   "outputs": [],
   "source": [
    "import pyttsx3\n",
    "import wave"
   ]
  },
  {
   "cell_type": "code",
   "execution_count": null,
   "metadata": {},
   "outputs": [],
   "source": [
    "SynthVoice = pyttsx3.init();\n",
    "SynthVoice.save_to_file(\"Hello\", 'TestFile.wav')\n",
    "SynthVoice.runAndWait()\n",
    "SynthVoice.stop()\n",
    "\n",
    "Signal_object = wave.open('TestFile.wav', 'rb')\n",
    "\n",
    "#get basic params opf teh signal\n",
    "Fs = Signal_object.getframerate()\n",
    "n_length = Signal_object.getnframes()\n",
    "n_channels = Signal_object.getnchannels()\n",
    "\n",
    "print(Fs)\n",
    "print(n_length)\n",
    "print(n_channels)\n",
    "print(n_length/Fs)\n",
    "\n",
    "#load signal into numpy array\n",
    "Signalobj = Signal_object.readframes(n_length);\n",
    "Signal = np.frombuffer(Signalobj, dtype=np.int16)\n",
    "\n",
    "Ts = 1/Fs;\n",
    "\n",
    "tvec = np.arange(n_length)*Ts\n",
    "plt.plot(tvec,Signal);\n",
    "\n",
    "#close the fid\n",
    "Signal_object.close()"
   ]
  },
  {
   "cell_type": "code",
   "execution_count": null,
   "metadata": {},
   "outputs": [],
   "source": [
    "# find first an last non zero element\n",
    "ids = np.array(np.nonzero(Signal))\n",
    "id1 = ids[0,0]\n",
    "print(id1)\n",
    "print(Signal[id1-1])\n",
    "#revert signal and calculate the last \n",
    "SignalFlip = np.flip(Signal)\n",
    "ids = np.array(np.nonzero(SignalFlip))\n",
    "id2 = Signal.size - ids[0,0]-1\n",
    "print(id2)\n",
    "print(Signal[id2+1])\n",
    "SignalCut = Signal[id1:id2]\n",
    "SignalCut2 = np.hamming(SignalCut.size)*SignalCut\n",
    "plt.plot(SignalCut)\n",
    "plt.plot(SignalCut2)\n",
    "\n",
    "#apply hamming function\n",
    "\n",
    "SignalCut2 = np.hamming(SignalCut.size)*SignalCut"
   ]
  },
  {
   "cell_type": "code",
   "execution_count": null,
   "metadata": {},
   "outputs": [],
   "source": [
    "plt.rcParams[\"figure.figsize\"] = (10,8)\n",
    "\n",
    "#perform FFT of the Speech and obtain power\n",
    "#FFtsignal = np.abs(np.fft.fft(Signal))\n",
    "FFtsignal = np.fft.fft(SignalCut2)\n",
    "#perform log of spectra\n",
    "\n",
    "logSignal = np.log(np.abs(FFtsignal))\n",
    "#perform inverse FFT on log signal\n",
    "FFTbackSignal=np.fft.ifft(logSignal)\n",
    "\n",
    "plt.subplot(3,1,1)\n",
    "plt.plot(FFtsignal)\n",
    "plt.subplot(3,1,2)\n",
    "plt.plot(logSignal)\n",
    "plt.subplot(3,1,3)\n",
    "plt.plot(FFTbackSignal)\n"
   ]
  },
  {
   "cell_type": "code",
   "execution_count": null,
   "metadata": {},
   "outputs": [],
   "source": [
    "#source codes from http://flothesof.github.io/cepstrum-pitch-tracking.html\n",
    "\n",
    "def make_sine_wave(f0, sampling_frequency, frame_size, phase=0):\n",
    "    t = np.arange(frame_size) / sampling_frequency\n",
    "    return np.sin(2 * np.pi * f0 * t + phase)\n",
    "\n",
    "def make_harmonic_wave(f0, sampling_frequency, frame_size, n_harmonics=10):\n",
    "    waveform = np.zeros((frame_size,), dtype=float)\n",
    "    for f in [f0 * i for i in range(1, n_harmonics + 1)]:\n",
    "        waveform += f0 / f * make_sine_wave(f, sampling_frequency, frame_size, phase=f)\n",
    "    return waveform"
   ]
  },
  {
   "cell_type": "code",
   "execution_count": null,
   "metadata": {},
   "outputs": [],
   "source": [
    "sample_freq = 22050 # Hz\n",
    "frame_size = 2048\n",
    "time_vector = np.arange(frame_size) / sample_freq\n",
    "signal = make_harmonic_wave(440, sample_freq, frame_size, n_harmonics=20)\n",
    "\n",
    "fig, ax = plt.subplots()\n",
    "ax.plot(time_vector, signal)\n",
    "ax.set_xlabel('time (s)')\n",
    "ax.set_title('time signal')"
   ]
  },
  {
   "cell_type": "code",
   "execution_count": null,
   "metadata": {},
   "outputs": [],
   "source": [
    "plt.rcParams[\"figure.figsize\"] = (8,8)\n",
    "\n",
    "#perform FFT of the Speech and obtain power\n",
    "#FFtsignal = np.abs(np.fft.fft(Signal))\n",
    "FFtsignal = np.fft.fft(signal)\n",
    "#perform log of spectra\n",
    "\n",
    "logSignal = np.log(np.abs(FFtsignal))\n",
    "#perform inverse FFT on log signal\n",
    "FFTbackSignal=np.fft.ifft(logSignal)\n",
    "\n",
    "plt.subplot(3,1,1)\n",
    "plt.plot(FFtsignal)\n",
    "plt.xlabel('Frequency (Hz)');\n",
    "plt.ylabel('Magnitude');\n",
    "plt.subplot(3,1,2)\n",
    "plt.plot(logSignal)\n",
    "plt.xlabel('Frequency (Hz)');\n",
    "plt.ylabel('log(F{f(t)})');\n",
    "plt.subplot(3,1,3)\n",
    "plt.plot(FFTbackSignal)\n",
    "plt.xlabel('Qfrequency (sample)');\n",
    "plt.ylabel('Cepstrum');\n"
   ]
  }
 ],
 "metadata": {
  "kernelspec": {
   "display_name": "base",
   "language": "python",
   "name": "python3"
  },
  "language_info": {
   "codemirror_mode": {
    "name": "ipython",
    "version": 3
   },
   "file_extension": ".py",
   "mimetype": "text/x-python",
   "name": "python",
   "nbconvert_exporter": "python",
   "pygments_lexer": "ipython3",
   "version": "3.9.13"
  },
  "orig_nbformat": 4,
  "vscode": {
   "interpreter": {
    "hash": "5aac32dcdd98302e4f966d7d29675b75e35ef28cdf73c9bb47c62f1529313aac"
   }
  }
 },
 "nbformat": 4,
 "nbformat_minor": 2
}
